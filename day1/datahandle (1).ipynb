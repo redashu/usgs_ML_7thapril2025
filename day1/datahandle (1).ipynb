{
 "cells": [
  {
   "cell_type": "code",
   "execution_count": 1,
   "id": "4b7ea712-c5a8-4a82-a5e2-bcec9a827929",
   "metadata": {},
   "outputs": [],
   "source": [
    "# loading virtual env in Notebook\n",
    "!source ./bin/activate"
   ]
  },
  {
   "cell_type": "code",
   "execution_count": 25,
   "id": "d954c6b5-bc91-4ce3-b6d8-9c182154e4f1",
   "metadata": {},
   "outputs": [],
   "source": [
    "import pandas as pd \n",
    "from sklearn.model_selection import train_test_split\n",
    "from sklearn.linear_model import LinearRegression\n",
    "import matplotlib.pyplot as plt"
   ]
  },
  {
   "cell_type": "code",
   "execution_count": 3,
   "id": "7fcb43d1-c88a-4cf6-b9ae-97efb3f0e16d",
   "metadata": {},
   "outputs": [],
   "source": [
    "# loading data from https url to pandas\n",
    "df = pd.read_csv('https://raw.githubusercontent.com/redashu/Datasets/refs/heads/master/advertising.csv')"
   ]
  },
  {
   "cell_type": "code",
   "execution_count": 4,
   "id": "288eece4-dc36-44fe-821b-080cb7e885c5",
   "metadata": {},
   "outputs": [
    {
     "name": "stdout",
     "output_type": "stream",
     "text": [
      "<class 'pandas.core.frame.DataFrame'>\n",
      "RangeIndex: 200 entries, 0 to 199\n",
      "Data columns (total 4 columns):\n",
      " #   Column     Non-Null Count  Dtype  \n",
      "---  ------     --------------  -----  \n",
      " 0   TV         200 non-null    float64\n",
      " 1   Radio      200 non-null    float64\n",
      " 2   Newspaper  200 non-null    float64\n",
      " 3   Sales      200 non-null    float64\n",
      "dtypes: float64(4)\n",
      "memory usage: 6.4 KB\n"
     ]
    }
   ],
   "source": [
    "# do some basics / metadata info \n",
    "df.info()"
   ]
  },
  {
   "cell_type": "code",
   "execution_count": 5,
   "id": "defd8cb2-833e-45b1-be90-38877fad5547",
   "metadata": {},
   "outputs": [
    {
     "data": {
      "text/html": [
       "<div>\n",
       "<style scoped>\n",
       "    .dataframe tbody tr th:only-of-type {\n",
       "        vertical-align: middle;\n",
       "    }\n",
       "\n",
       "    .dataframe tbody tr th {\n",
       "        vertical-align: top;\n",
       "    }\n",
       "\n",
       "    .dataframe thead th {\n",
       "        text-align: right;\n",
       "    }\n",
       "</style>\n",
       "<table border=\"1\" class=\"dataframe\">\n",
       "  <thead>\n",
       "    <tr style=\"text-align: right;\">\n",
       "      <th></th>\n",
       "      <th>TV</th>\n",
       "      <th>Radio</th>\n",
       "      <th>Newspaper</th>\n",
       "      <th>Sales</th>\n",
       "    </tr>\n",
       "  </thead>\n",
       "  <tbody>\n",
       "    <tr>\n",
       "      <th>0</th>\n",
       "      <td>230.1</td>\n",
       "      <td>37.8</td>\n",
       "      <td>69.2</td>\n",
       "      <td>22.1</td>\n",
       "    </tr>\n",
       "    <tr>\n",
       "      <th>1</th>\n",
       "      <td>44.5</td>\n",
       "      <td>39.3</td>\n",
       "      <td>45.1</td>\n",
       "      <td>10.4</td>\n",
       "    </tr>\n",
       "    <tr>\n",
       "      <th>2</th>\n",
       "      <td>17.2</td>\n",
       "      <td>45.9</td>\n",
       "      <td>69.3</td>\n",
       "      <td>12.0</td>\n",
       "    </tr>\n",
       "    <tr>\n",
       "      <th>3</th>\n",
       "      <td>151.5</td>\n",
       "      <td>41.3</td>\n",
       "      <td>58.5</td>\n",
       "      <td>16.5</td>\n",
       "    </tr>\n",
       "    <tr>\n",
       "      <th>4</th>\n",
       "      <td>180.8</td>\n",
       "      <td>10.8</td>\n",
       "      <td>58.4</td>\n",
       "      <td>17.9</td>\n",
       "    </tr>\n",
       "  </tbody>\n",
       "</table>\n",
       "</div>"
      ],
      "text/plain": [
       "      TV  Radio  Newspaper  Sales\n",
       "0  230.1   37.8       69.2   22.1\n",
       "1   44.5   39.3       45.1   10.4\n",
       "2   17.2   45.9       69.3   12.0\n",
       "3  151.5   41.3       58.5   16.5\n",
       "4  180.8   10.8       58.4   17.9"
      ]
     },
     "execution_count": 5,
     "metadata": {},
     "output_type": "execute_result"
    }
   ],
   "source": [
    "# top 5 rows of data \n",
    "df.head()"
   ]
  },
  {
   "cell_type": "code",
   "execution_count": 6,
   "id": "8c177222-2620-4755-8e7e-c9d82808231a",
   "metadata": {},
   "outputs": [
    {
     "data": {
      "text/plain": [
       "0      230.1\n",
       "1       44.5\n",
       "2       17.2\n",
       "3      151.5\n",
       "4      180.8\n",
       "       ...  \n",
       "195     38.2\n",
       "196     94.2\n",
       "197    177.0\n",
       "198    283.6\n",
       "199    232.1\n",
       "Name: TV, Length: 200, dtype: float64"
      ]
     },
     "execution_count": 6,
     "metadata": {},
     "output_type": "execute_result"
    }
   ],
   "source": [
    "# select a single column\n",
    "df[\"TV\"]"
   ]
  },
  {
   "cell_type": "code",
   "execution_count": 7,
   "id": "9086e335-08f9-4de0-a13c-7fe57c7d38f4",
   "metadata": {},
   "outputs": [
    {
     "data": {
      "text/html": [
       "<div>\n",
       "<style scoped>\n",
       "    .dataframe tbody tr th:only-of-type {\n",
       "        vertical-align: middle;\n",
       "    }\n",
       "\n",
       "    .dataframe tbody tr th {\n",
       "        vertical-align: top;\n",
       "    }\n",
       "\n",
       "    .dataframe thead th {\n",
       "        text-align: right;\n",
       "    }\n",
       "</style>\n",
       "<table border=\"1\" class=\"dataframe\">\n",
       "  <thead>\n",
       "    <tr style=\"text-align: right;\">\n",
       "      <th></th>\n",
       "      <th>Radio</th>\n",
       "      <th>Sales</th>\n",
       "    </tr>\n",
       "  </thead>\n",
       "  <tbody>\n",
       "    <tr>\n",
       "      <th>0</th>\n",
       "      <td>37.8</td>\n",
       "      <td>22.1</td>\n",
       "    </tr>\n",
       "    <tr>\n",
       "      <th>1</th>\n",
       "      <td>39.3</td>\n",
       "      <td>10.4</td>\n",
       "    </tr>\n",
       "    <tr>\n",
       "      <th>2</th>\n",
       "      <td>45.9</td>\n",
       "      <td>12.0</td>\n",
       "    </tr>\n",
       "    <tr>\n",
       "      <th>3</th>\n",
       "      <td>41.3</td>\n",
       "      <td>16.5</td>\n",
       "    </tr>\n",
       "    <tr>\n",
       "      <th>4</th>\n",
       "      <td>10.8</td>\n",
       "      <td>17.9</td>\n",
       "    </tr>\n",
       "    <tr>\n",
       "      <th>...</th>\n",
       "      <td>...</td>\n",
       "      <td>...</td>\n",
       "    </tr>\n",
       "    <tr>\n",
       "      <th>195</th>\n",
       "      <td>3.7</td>\n",
       "      <td>7.6</td>\n",
       "    </tr>\n",
       "    <tr>\n",
       "      <th>196</th>\n",
       "      <td>4.9</td>\n",
       "      <td>14.0</td>\n",
       "    </tr>\n",
       "    <tr>\n",
       "      <th>197</th>\n",
       "      <td>9.3</td>\n",
       "      <td>14.8</td>\n",
       "    </tr>\n",
       "    <tr>\n",
       "      <th>198</th>\n",
       "      <td>42.0</td>\n",
       "      <td>25.5</td>\n",
       "    </tr>\n",
       "    <tr>\n",
       "      <th>199</th>\n",
       "      <td>8.6</td>\n",
       "      <td>18.4</td>\n",
       "    </tr>\n",
       "  </tbody>\n",
       "</table>\n",
       "<p>200 rows × 2 columns</p>\n",
       "</div>"
      ],
      "text/plain": [
       "     Radio  Sales\n",
       "0     37.8   22.1\n",
       "1     39.3   10.4\n",
       "2     45.9   12.0\n",
       "3     41.3   16.5\n",
       "4     10.8   17.9\n",
       "..     ...    ...\n",
       "195    3.7    7.6\n",
       "196    4.9   14.0\n",
       "197    9.3   14.8\n",
       "198   42.0   25.5\n",
       "199    8.6   18.4\n",
       "\n",
       "[200 rows x 2 columns]"
      ]
     },
     "execution_count": 7,
     "metadata": {},
     "output_type": "execute_result"
    }
   ],
   "source": [
    "# multi column \n",
    "df[[\"Radio\",\"Sales\"]]"
   ]
  },
  {
   "cell_type": "code",
   "execution_count": 13,
   "id": "d7200ba3-0686-4dc2-95d0-88e2466e5dc3",
   "metadata": {},
   "outputs": [],
   "source": [
    "# selecting features and label\n",
    "# label of ouptut \n",
    "label=df[\"Sales\"]\n",
    "# features or inputs \n",
    "features = df[[\"TV\",\"Radio\",\"Newspaper\"]]\n",
    "#print(features)"
   ]
  },
  {
   "cell_type": "code",
   "execution_count": 17,
   "id": "57bdf999-d037-43c8-97d8-552c59b6efa4",
   "metadata": {},
   "outputs": [
    {
     "name": "stdout",
     "output_type": "stream",
     "text": [
      "Help on function train_test_split in module sklearn.model_selection._split:\n",
      "\n",
      "train_test_split(*arrays, test_size=None, train_size=None, random_state=None, shuffle=True, stratify=None)\n",
      "    Split arrays or matrices into random train and test subsets.\n",
      "    \n",
      "    Quick utility that wraps input validation,\n",
      "    ``next(ShuffleSplit().split(X, y))``, and application to input data\n",
      "    into a single call for splitting (and optionally subsampling) data into a\n",
      "    one-liner.\n",
      "    \n",
      "    Read more in the :ref:`User Guide <cross_validation>`.\n",
      "    \n",
      "    Parameters\n",
      "    ----------\n",
      "    *arrays : sequence of indexables with same length / shape[0]\n",
      "        Allowed inputs are lists, numpy arrays, scipy-sparse\n",
      "        matrices or pandas dataframes.\n",
      "    \n",
      "    test_size : float or int, default=None\n",
      "        If float, should be between 0.0 and 1.0 and represent the proportion\n",
      "        of the dataset to include in the test split. If int, represents the\n",
      "        absolute number of test samples. If None, the value is set to the\n",
      "        complement of the train size. If ``train_size`` is also None, it will\n",
      "        be set to 0.25.\n",
      "    \n",
      "    train_size : float or int, default=None\n",
      "        If float, should be between 0.0 and 1.0 and represent the\n",
      "        proportion of the dataset to include in the train split. If\n",
      "        int, represents the absolute number of train samples. If None,\n",
      "        the value is automatically set to the complement of the test size.\n",
      "    \n",
      "    random_state : int, RandomState instance or None, default=None\n",
      "        Controls the shuffling applied to the data before applying the split.\n",
      "        Pass an int for reproducible output across multiple function calls.\n",
      "        See :term:`Glossary <random_state>`.\n",
      "    \n",
      "    shuffle : bool, default=True\n",
      "        Whether or not to shuffle the data before splitting. If shuffle=False\n",
      "        then stratify must be None.\n",
      "    \n",
      "    stratify : array-like, default=None\n",
      "        If not None, data is split in a stratified fashion, using this as\n",
      "        the class labels.\n",
      "        Read more in the :ref:`User Guide <stratification>`.\n",
      "    \n",
      "    Returns\n",
      "    -------\n",
      "    splitting : list, length=2 * len(arrays)\n",
      "        List containing train-test split of inputs.\n",
      "    \n",
      "        .. versionadded:: 0.16\n",
      "            If the input is sparse, the output will be a\n",
      "            ``scipy.sparse.csr_matrix``. Else, output type is the same as the\n",
      "            input type.\n",
      "    \n",
      "    Examples\n",
      "    --------\n",
      "    >>> import numpy as np\n",
      "    >>> from sklearn.model_selection import train_test_split\n",
      "    >>> X, y = np.arange(10).reshape((5, 2)), range(5)\n",
      "    >>> X\n",
      "    array([[0, 1],\n",
      "           [2, 3],\n",
      "           [4, 5],\n",
      "           [6, 7],\n",
      "           [8, 9]])\n",
      "    >>> list(y)\n",
      "    [0, 1, 2, 3, 4]\n",
      "    \n",
      "    >>> X_train, X_test, y_train, y_test = train_test_split(\n",
      "    ...     X, y, test_size=0.33, random_state=42)\n",
      "    ...\n",
      "    >>> X_train\n",
      "    array([[4, 5],\n",
      "           [0, 1],\n",
      "           [6, 7]])\n",
      "    >>> y_train\n",
      "    [2, 0, 3]\n",
      "    >>> X_test\n",
      "    array([[2, 3],\n",
      "           [8, 9]])\n",
      "    >>> y_test\n",
      "    [1, 4]\n",
      "    \n",
      "    >>> train_test_split(y, shuffle=False)\n",
      "    [[0, 1, 2], [3, 4]]\n",
      "\n"
     ]
    }
   ],
   "source": [
    "help(train_test_split)"
   ]
  },
  {
   "cell_type": "code",
   "execution_count": 18,
   "id": "2335782b-fa0f-4c16-a77d-efc9374e8cb7",
   "metadata": {},
   "outputs": [],
   "source": [
    "# split data into training (80) and test part (20) \n",
    "# test_size -- 0.0 to 1.0  -- 0.1 means 10% \n",
    "feature_train,feature_test,label_train,label_test=train_test_split(features,label,test_size=0.2)"
   ]
  },
  {
   "cell_type": "code",
   "execution_count": 20,
   "id": "0990f0ce-ed61-49e6-b2ba-65e325f11c92",
   "metadata": {},
   "outputs": [],
   "source": [
    "# calling Linear Regression algo here with default parameters\n",
    "model=LinearRegression()"
   ]
  },
  {
   "cell_type": "code",
   "execution_count": 21,
   "id": "1552e7ed-22a2-413c-bef7-0c24ee0f5708",
   "metadata": {},
   "outputs": [],
   "source": [
    "# passing features and labels 80% data side to train the Model\n",
    "trained_model=model.fit(feature_train,label_train)"
   ]
  },
  {
   "cell_type": "code",
   "execution_count": 22,
   "id": "53fa0dae-822b-4451-a7a3-698e5e45702a",
   "metadata": {},
   "outputs": [
    {
     "name": "stdout",
     "output_type": "stream",
     "text": [
      "[21.56324903  9.37235622 24.71817445 23.74729046 21.3722869  22.16420279\n",
      " 11.46001598 17.98477015 16.64635925 10.18277854 22.01176821  9.66770521\n",
      " 23.57842107 21.0131185  15.06350892 24.76922438  9.23109729 17.14533149\n",
      " 11.29698591 10.76847442 15.92518707 10.22597038 13.46324813 12.29424152\n",
      " 13.18800981 16.90021595 14.60630075  8.02209773 18.13045691 15.12903428\n",
      " 19.38796594 24.34277986  8.85763088 19.44251341 18.17124251 11.77592771\n",
      " 18.5726446  12.16990351 10.56857225  8.58664313]\n"
     ]
    }
   ],
   "source": [
    "# Passing the testing data to prediction outcome \n",
    "predicted_outcome=trained_model.predict(feature_test)\n",
    "print(predicted_outcome)"
   ]
  },
  {
   "cell_type": "code",
   "execution_count": 23,
   "id": "91b8f043-201d-4c4d-ba66-4276b98f4985",
   "metadata": {},
   "outputs": [
    {
     "name": "stdout",
     "output_type": "stream",
     "text": [
      "109    19.8\n",
      "24      9.7\n",
      "198    25.5\n",
      "30     21.4\n",
      "33     17.4\n",
      "54     20.2\n",
      "144    12.3\n",
      "152    16.6\n",
      "45     16.1\n",
      "29     10.5\n",
      "111    21.8\n",
      "166     8.0\n",
      "61     24.2\n",
      "52     22.6\n",
      "87     16.0\n",
      "101    23.8\n",
      "158     7.3\n",
      "122    16.6\n",
      "1      10.4\n",
      "13     13.7\n",
      "112    17.1\n",
      "75      8.7\n",
      "63     14.0\n",
      "73     11.0\n",
      "83     13.6\n",
      "162    19.9\n",
      "173    16.7\n",
      "132     5.7\n",
      "40     16.6\n",
      "123    15.2\n",
      "59     18.4\n",
      "17     24.4\n",
      "117     9.4\n",
      "131    17.7\n",
      "21     17.5\n",
      "86     12.0\n",
      "146    18.2\n",
      "88     12.9\n",
      "46     10.6\n",
      "170     8.4\n",
      "Name: Sales, dtype: float64\n"
     ]
    }
   ],
   "source": [
    "# actual outcome \n",
    "print(label_test)"
   ]
  },
  {
   "cell_type": "code",
   "execution_count": 24,
   "id": "12fec398-56a6-44ac-a0f7-1c4dc473a887",
   "metadata": {},
   "outputs": [],
   "source": [
    "# to check model accuracy we can use many functions which are available in python libs"
   ]
  },
  {
   "cell_type": "code",
   "execution_count": 36,
   "id": "067a4316-543e-4e0d-bde9-dec130582dec",
   "metadata": {},
   "outputs": [
    {
     "data": {
      "image/png": "[encoded data removed]",
      "text/plain": [
       "<Figure size 640x480 with 1 Axes>"
      ]
     },
     "metadata": {},
     "output_type": "display_data"
    }
   ],
   "source": [
    "# basic graph desing using matplot lib \n",
    "months=['jan','feb','march','april']\n",
    "sales=[120,160,95,210]\n",
    "plt.xlabel(\"months\")\n",
    "plt.ylabel(\"sales\")\n",
    "plt.title(\"monthly sales\")\n",
    "plt.plot(months,sales,color='red',linestyle='--',marker='o') # for straight lines \n",
    "plt.bar(months,sales)\n",
    "plt.scatter(months,sales)\n",
    "plt.grid(True)\n",
    "plt.show()"
   ]
  },
  {
   "cell_type": "code",
   "execution_count": 39,
   "id": "23004fb4-5118-4591-98c9-3089501055a9",
   "metadata": {},
   "outputs": [
    {
     "data": {
      "image/png": "[encoded data removed]",
      "text/plain": [
       "<Figure size 640x480 with 1 Axes>"
      ]
     },
     "metadata": {},
     "output_type": "display_data"
    }
   ],
   "source": [
    "# lets plot graph of scatter type for predicted and actual values \n",
    "plt.title(\"Advertising sales company\")\n",
    "plt.xlabel(\"actual sales\")\n",
    "plt.ylabel(\"predicted sales\")\n",
    "plt.scatter(label_test,predicted_outcome)\n",
    "plt.plot([min(label_test),max(label_test)],[min(predicted_outcome),max(predicted_outcome)],color='green')\n",
    "plt.show()"
   ]
  },
  {
   "cell_type": "code",
   "execution_count": null,
   "id": "e13508ec-cf0c-4893-8903-577bda4be07d",
   "metadata": {},
   "outputs": [],
   "source": []
  }
 ],
 "metadata": {
  "kernelspec": {
   "display_name": "Python 3 (ipykernel)",
   "language": "python",
   "name": "python3"
  },
  "language_info": {
   "codemirror_mode": {
    "name": "ipython",
    "version": 3
   },
   "file_extension": ".py",
   "mimetype": "text/x-python",
   "name": "python",
   "nbconvert_exporter": "python",
   "pygments_lexer": "ipython3",
   "version": "3.8.10"
  }
 },
 "nbformat": 4,
 "nbformat_minor": 5
}
